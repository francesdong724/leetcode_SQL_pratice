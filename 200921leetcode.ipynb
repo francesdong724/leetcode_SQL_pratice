{
 "cells": [
  {
   "cell_type": "markdown",
   "id": "51b5c3e2",
   "metadata": {},
   "source": [
    "Leetcode Question: 1683. Invalid Tweets\n",
    "Table:Tweets\n",
    "1)tweet_id\n",
    "2)content\n",
    "Write an SQL query to find the IDs of the invalid tweets. The tweet is invalid if the number of characters used in the content of the tweet is strictly greater than 15\n",
    "\n",
    "https://leetcode-cn.com/problems/invalid-tweets\n"
   ]
  },
  {
   "cell_type": "markdown",
   "id": "618a4232",
   "metadata": {},
   "source": [
    "Recall: MS SQL Serve-- LEN()\n",
    "Solution: \n",
    "SELECT tweet_id\n",
    "FROM Tweets\n",
    "WHERE LEN(content)>15"
   ]
  },
  {
   "cell_type": "markdown",
   "id": "1ef63434",
   "metadata": {},
   "source": [
    "Leetcode Question:1393. Capital Gain/Loss\n",
    "Table Stocks\n",
    "1) Stock_name\n",
    "2) Operation (Buy,Sale)\n",
    "3) operation_day\n",
    "4) Price\n",
    "\n",
    "Write an SQL query to report the Capital gain/loss for each stock.(Sale - Buy)\n",
    "\n",
    "https://leetcode-cn.com/problems/capital-gainloss\n"
   ]
  },
  {
   "cell_type": "markdown",
   "id": "37d56bde",
   "metadata": {},
   "source": [
    "1) Make all buy price as negative(CASE....WHEN)\n",
    "\n",
    "2) sum sale and buy per product(GROUP BY)\n",
    "\n",
    "Solution:\n",
    "SELECT stock_name,\n",
    "sum(case when operation = 'Buy' THEN -price\n",
    "ELSE price END) as 'capital_gain_loss'\n",
    "FROM Stocks\n",
    "Group By stock_name"
   ]
  },
  {
   "cell_type": "markdown",
   "id": "e9494b75",
   "metadata": {},
   "source": [
    "Leetcode Question: 1350. Students With Invalid Departments\n",
    "Table Departments\n",
    "1) id (department_id)\n",
    "2) name(department_name)\n",
    "\n",
    "Table Students\n",
    "1) id(students' id)\n",
    "2) name\n",
    "3) department_id\n",
    "\n",
    "Write an SQL query to find the id and the name of all students who are enrolled in departments that no longer exists.\n",
    "\n",
    "https://leetcode-cn.com/problems/students-with-invalid-departments\n"
   ]
  },
  {
   "cell_type": "markdown",
   "id": "8c25c784",
   "metadata": {},
   "source": [
    "Step 1) Join two table togther\n",
    "Step 2) if students who are enrolled in departments that no longer exists(in another words, no longer exist in the department table), value for this record (department_name) should be NULL-- use this as selection crition\n",
    "\n",
    "Soluntion:\n",
    "select s.id,s.name\n",
    "FROM Students s \n",
    "LEFT JOIN Departments d \n",
    "ON s.department_id=d.id\n",
    "WHERE d.name IS NULL;\n",
    "\n",
    "Tip: recall difference between join, left join and inner join"
   ]
  },
  {
   "cell_type": "markdown",
   "id": "9947d44b",
   "metadata": {},
   "source": [
    "Leectode Question 1741. Find Total Time Spent by Each Employee\n",
    "Table Employees\n",
    "\n",
    "+-------------+------+\n",
    "| Column Name | Type |\n",
    "+-------------+------+\n",
    "| emp_id      | int  |\n",
    "| event_day   | date |\n",
    "| in_time     | int  |\n",
    "| out_time    | int  |\n",
    "：https://leetcode-cn.com/problems/find-total-time-spent-by-each-employee\n",
    "\n",
    "Write an SQL query to calculate the total time in minutes spent by each employee on each day at the office. Note that within one day, an employee can enter and leave more than once. The time spent in the office for a single entry is out_time - in_time.\n"
   ]
  },
  {
   "cell_type": "markdown",
   "id": "0c87fc27",
   "metadata": {},
   "source": [
    "1) Out_in - in_time = time _spent_in_office\n",
    "2) Use group by with two , event_day then emp_id(someone may log in and log out multiple times)\n",
    "\n",
    "Solution:\n",
    "SELECT event_day as day, emp_id,\n",
    "sum(out_time-in_time) as 'total_time'\n",
    "FROM Employees\n",
    "Group BY event_day,emp_id;"
   ]
  }
 ],
 "metadata": {
  "kernelspec": {
   "display_name": "Python 3",
   "language": "python",
   "name": "python3"
  },
  "language_info": {
   "codemirror_mode": {
    "name": "ipython",
    "version": 3
   },
   "file_extension": ".py",
   "mimetype": "text/x-python",
   "name": "python",
   "nbconvert_exporter": "python",
   "pygments_lexer": "ipython3",
   "version": "3.8.8"
  }
 },
 "nbformat": 4,
 "nbformat_minor": 5
}
