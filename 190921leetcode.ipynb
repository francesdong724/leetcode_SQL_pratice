{
 "cells": [
  {
   "cell_type": "markdown",
   "id": "cf0043f2",
   "metadata": {},
   "source": [
    "## Leetcode Question:578 Get Highest Answer Rate Question\n",
    "Table(survey_log):\n",
    "Col:  id(user id), action( \"show\", \"answer\", \"skip\"), question_id, answer_id(not null when action column is \"answer), q_num, timestamp\n",
    "AIM: Get the highest answer rate question from a table\n",
    "\n",
    "\n",
    "Link：https://leetcode-cn.com/problems/get-highest-answer-rate-question\n"
   ]
  },
  {
   "cell_type": "markdown",
   "id": "cb49e6f4",
   "metadata": {},
   "source": [
    "Step 1: if answer_id is not null that means question be answered\n",
    "Step 2: Group questions based on their question_id, Count how many time this question be answer\n",
    "Step 3: find the max value \n",
    "\n",
    "Solution:\n",
    "SELECT question_id as survey_log\n",
    "FROM survey_log\n",
    "WHERE answer_id IS NOT NULL\n",
    "GROUP BY question_id\n",
    "ORDER BY COUNT(answer_id) DESC\n",
    "LIMIT 1;\n",
    "\n",
    "Tips: Order by - default order is AESC"
   ]
  },
  {
   "cell_type": "markdown",
   "id": "9e6365f9",
   "metadata": {},
   "source": [
    "## 602. Friend Requests II: Who Has the Most Friends\n",
    "Table: request_accepted\n",
    "1) requester_id\n",
    "2)accepter_id\n",
    "3) accept_date\n",
    "Write a query to find the the people who has most friends and the most friends number under the following rules:\n",
    "It is guaranteed there is only 1 people having the most friends.\n",
    "The friend request could only been accepted once, which mean there is no multiple records with the same requester_id and accepter_id value.\n",
    "\n",
    "Link：https://leetcode-cn.com/problems/friend-requests-ii-who-has-the-most-friends\n"
   ]
  },
  {
   "cell_type": "markdown",
   "id": "73d149f6",
   "metadata": {},
   "source": [
    "Though 1:\n",
    "SELECT accepter_id as 'id',\n",
    "       friend_count as 'num'\n",
    "FROM(\n",
    "SELECT accepter_id,\n",
    "       COUNT(*) OVER (partition by accepter_id) as friend_count\n",
    "FROM request_accepted ) t\n",
    "ORDER BY friend_count DESC\n",
    "LIMIT 1;\n",
    "\n",
    "Issue with this approach :\n",
    "1) forgot to count requester_id\n",
    "\n",
    "Step 1: Count the requester_id\n",
    "Step 2: Combine the requeter_id list to the accepter_id lis\n",
    "Step 3: Count(*) to find the MAx number\n",
    "\n",
    "Solution:\n",
    "select id, count(*) over (partition by id) as num from \n",
    "(select requester_id id from request_accepted\n",
    "union all\n",
    "select accepter_id from request_accepted) t1\n",
    "order by num desc\n",
    "limit 1"
   ]
  },
  {
   "cell_type": "markdown",
   "id": "30109479",
   "metadata": {},
   "source": [
    "## 1179. Reformat Department Table\n",
    "Department\n",
    "1) id\n",
    "2) Revenue\n",
    "3) month(Jan,Feb,Mar,Apr,May......Dec)\n",
    "\n",
    "Result Table:\n",
    "id Jan_Revenue Feb_revenue ........Dec_revenus"
   ]
  },
  {
   "cell_type": "markdown",
   "id": "b74c4109",
   "metadata": {},
   "source": [
    "Method 1: SQL server\n",
    "Pivot Table\n",
    "use pivot table to convert column to row\n",
    "Solution:\n",
    "select \n",
    "id,\n",
    "Jan as 'Jan_Revenue',\n",
    "Feb as 'Feb_Revenue',\n",
    "Mar as 'Mar_Revenue',\n",
    "Apr as 'Apr_Revenue',\n",
    "May as 'May_Revenue',\n",
    "Jun as 'Jun_Revenue',\n",
    "Jul as 'Jul_Revenue',\n",
    "Aug as 'Aug_Revenue',\n",
    "Sep as 'Sep_Revenue',\n",
    "Oct as 'Oct_Revenue',\n",
    "Nov as 'Nov_Revenue',\n",
    "Dec as 'Dec_Revenue'\n",
    "from Department\n",
    "PIVOT\n",
    "(\n",
    "    SUM(revenue) for month in(Jan,Feb,Mar,Apr,May,Jun,Jul,Aug,Sep,Oct,Nov,Dec\n",
    "\t)\n",
    ")T\n",
    "\n",
    "Method 2: MySQL\n",
    "Use if to identify Month\n",
    "SELECT id,\n",
    "sum(if(month='Jan',revenue,null)) as Jan_Revenue,\n",
    "sum(if(month='Feb',revenue,null)) as Feb_Revenue,\n",
    "sum(if(month='Mar',revenue,null)) as Mar_Revenue,\n",
    "sum(if(month='Apr',revenue,null)) as Apr_Revenue,\n",
    "sum(if(month='May',revenue,null)) as May_Revenue,\n",
    "sum(if(month='Jun',revenue,null)) as Jun_Revenue,\n",
    "sum(if(month='Jul',revenue,null)) as Jul_Revenue,\n",
    "sum(if(month='Aug',revenue,null)) as Aug_Revenue,\n",
    "sum(if(month='Sep',revenue,null)) as Sep_Revenue,\n",
    "sum(if(month='Oct',revenue,null)) as Oct_Revenue,\n",
    "sum(if(month='Nov',revenue,null)) as Nov_Revenue,\n",
    "sum(if(month='Dec',revenue,null)) as Dec_Revenue\n",
    "FROM Department\n",
    "Group By id;\n",
    "Tips : can use case... when as well"
   ]
  },
  {
   "cell_type": "markdown",
   "id": "27a61a5b",
   "metadata": {},
   "source": [
    "## 1757. Recyclable and Low Fat Products\n",
    "Table: Products\n",
    "\n",
    "+-------------+---------+\n",
    "| Column Name | Type    |\n",
    "+-------------+---------+\n",
    "| product_id  | int     |\n",
    "| low_fats    | enum    |\n",
    "| recyclable  | enum    |\n",
    "+-------------+---------+\n",
    "low fats: Y or N\n",
    "recyclable : Y or N\n",
    "\n",
    "return product id when this product is both recyclable and low fat\n"
   ]
  },
  {
   "cell_type": "markdown",
   "id": "f18534cf",
   "metadata": {},
   "source": [
    "Solution:\n",
    "SELECT product_id\n",
    "FROM Products\n",
    "WHERE low_fats='Y' AND recyclable='Y';"
   ]
  }
 ],
 "metadata": {
  "kernelspec": {
   "display_name": "Python 3",
   "language": "python",
   "name": "python3"
  },
  "language_info": {
   "codemirror_mode": {
    "name": "ipython",
    "version": 3
   },
   "file_extension": ".py",
   "mimetype": "text/x-python",
   "name": "python",
   "nbconvert_exporter": "python",
   "pygments_lexer": "ipython3",
   "version": "3.8.8"
  }
 },
 "nbformat": 4,
 "nbformat_minor": 5
}
