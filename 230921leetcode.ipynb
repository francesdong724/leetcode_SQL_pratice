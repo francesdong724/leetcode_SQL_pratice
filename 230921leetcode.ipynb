{
 "cells": [
  {
   "cell_type": "markdown",
   "id": "8cdfdd12",
   "metadata": {},
   "source": [
    "Leetcode Question:1821. Find Customers With Positive Revenue this Year\n",
    "Table Customers\n",
    "1)customer_id\n",
    "2)year\n",
    "3)revenue\n",
    "\n",
    "To find which customer have postive revenue in 2021\n",
    "\n",
    "FROM:\n",
    "https://leetcode-cn.com/problems/find-customers-with-positive-revenue-this-year/"
   ]
  },
  {
   "cell_type": "markdown",
   "id": "7a8703f4",
   "metadata": {},
   "source": [
    "Step 1: set condition to 2021\n",
    "Step 2: set confition for revenue to postion\n",
    "\n",
    "Solution:\n",
    "select customer_id\n",
    "from customers\n",
    "where year = \"2021\" and revenue > 0 "
   ]
  },
  {
   "cell_type": "markdown",
   "id": "98f84480",
   "metadata": {},
   "source": [
    "Leetcode Question: 1587. Bank Account Summary II\n",
    "\n",
    "Table 1: Users\n",
    "1) account\n",
    "2) name\n",
    "\n",
    "Table 2: Transactions\n",
    "1) trans_id\n",
    "2) account\n",
    "3) amount\n",
    "4) transcated_on\n",
    "\n",
    "Write an SQL query to report the name and balance of users with a balance higher than 10000. The balance of an account is equal to the sum of the amounts of all transactions involving that account.\n",
    "\n",
    "Return the result table in any order.\n",
    "\n",
    "FROM:\n",
    "https://leetcode-cn.com/problems/bank-account-summary-ii\n",
    "\n"
   ]
  },
  {
   "cell_type": "markdown",
   "id": "b31c028e",
   "metadata": {},
   "source": [
    "Initial approach :\n",
    "1) use window function to find balance\n",
    "2) Left join Users\n",
    "3) Only return balance when it higher than 10000\n",
    "\n",
    "Issue : repeat \n",
    "\n",
    "SELECT u.name,balance\n",
    "FROM(\n",
    "SELECT *,\n",
    "       SUM(amount) OVER (partition by account) as 'balance'\n",
    "FROM Transactions\n",
    ") t \n",
    "LEFT JOIN Users u ON t.account = u.account\n",
    "WHERE balance > 10000;\n",
    "\n",
    "Solution:\n",
    "SELECT u.name,SUM(t.amount) AS 'balance'\n",
    "FROM transactions t \n",
    "LEFT JOIN USERS u ON t.account=u.account\n",
    "GROUP BY t.account\n",
    "HAVING SUM(t.amount) > 10000;"
   ]
  },
  {
   "cell_type": "markdown",
   "id": "ec559acb",
   "metadata": {},
   "source": [
    "Leetcode Question:1303. Find the Team Size\n",
    "Table Employee\n",
    "1) employee_id\n",
    "2) team_id\n",
    "\n",
    "Write an SQL query to find the team size of each of the employees.\n",
    "\n",
    "Return result table in any order.\n",
    "\n",
    "FROM\n",
    "https://leetcode-cn.com/problems/find-the-team-size\n"
   ]
  },
  {
   "cell_type": "markdown",
   "id": "3d0faa1d",
   "metadata": {},
   "source": [
    "1) Use windown function to count team size ,group by team_id\n",
    "select employee_id, count(*) over(partition by team_id) as team_size\n",
    "from employee"
   ]
  },
  {
   "cell_type": "markdown",
   "id": "cc0d5ea0",
   "metadata": {},
   "source": [
    "Leetcode Question:1398. Customers Who Bought Products A and B but Not C\n",
    "Table 1 Customers\n",
    "1) customer_id\n",
    "2) customer_name\n",
    "\n",
    "Table 2 Order\n",
    "1) order_id\n",
    "2) customer_id\n",
    "3) order_name\n",
    "\n",
    "Write an SQL query to report the customer_id and customer_name of customers who bought products \"A\", \"B\" but did not buy the product \"C\" since we want to recommend them buy this product.\n",
    "\n",
    "Return the result table ordered by customer_id.\n",
    "FROM\n",
    "https://leetcode-cn.com/problems/customers-who-bought-products-a-and-b-but-not-c\n"
   ]
  },
  {
   "cell_type": "markdown",
   "id": "1ede55af",
   "metadata": {},
   "source": [
    "1) Join Customers and orders on customer_id\n",
    "2) Group By customer_id, check which customer bought A& B not C -- use sum\n",
    "\n",
    "Solution:\n",
    "SELECT o.customer_id,c.customer_name\n",
    "FROM ORDERS o \n",
    "LEFT JOIN Customers c ON o.customer_id = c.customer_id\n",
    "GROUP BY o.customer_id\n",
    "having SUM(product_name = 'A') > 0 AND SUM(product_name = 'B')>0 AND SUM(product_name = 'C')=0;\n",
    "\n",
    "Tips : Be careful of group by .... having"
   ]
  },
  {
   "cell_type": "markdown",
   "id": "ab5ea3b5",
   "metadata": {},
   "source": [
    "Leetcode Question:1596. The Most Frequently Ordered Products for Each Customer\n",
    "Table 1 Customers\n",
    "1) Customer_id\n",
    "2) Customer_name\n",
    "\n",
    "Table 2 Orders\n",
    "1) order_id\n",
    "2)order_date\n",
    "3) customer_id\n",
    "4) product_id\n",
    "\n",
    "Table 3 Products\n",
    "1) Product_id\n",
    "2) product_name\n",
    "3) price\n",
    "\n",
    "Write an SQL query to find the most frequently ordered product(s) for each customer.\n",
    "\n",
    "The result table should have the product_id and product_name for each customer_id who ordered at least one order. Return the result table in any order.\n",
    "\n",
    "https://leetcode-cn.com/problems/the-most-frequently-ordered-products-for-each-customer\n"
   ]
  },
  {
   "cell_type": "markdown",
   "id": "bdfbf337",
   "metadata": {},
   "source": [
    "Window Function - return rank\n",
    "then connect 3 table together via left join\n",
    "SOluntion:\n",
    "SELECT o.customer_id,o.product_id,p.product_name\n",
    "FROM \n",
    "(\n",
    "SELECT *,rank() over (partition by customer_id order by count(product_id) desc) as count\n",
    "FROM Orders group by customer_id,product_id) o \n",
    "LEFT JOIN Customers c ON o.customer_id = c.customer_id\n",
    "LEFT JOIN Products p ON o.product_id = p.product_id\n",
    "WHERE o.count=1;"
   ]
  }
 ],
 "metadata": {
  "kernelspec": {
   "display_name": "Python 3",
   "language": "python",
   "name": "python3"
  },
  "language_info": {
   "codemirror_mode": {
    "name": "ipython",
    "version": 3
   },
   "file_extension": ".py",
   "mimetype": "text/x-python",
   "name": "python",
   "nbconvert_exporter": "python",
   "pygments_lexer": "ipython3",
   "version": "3.8.8"
  }
 },
 "nbformat": 4,
 "nbformat_minor": 5
}
